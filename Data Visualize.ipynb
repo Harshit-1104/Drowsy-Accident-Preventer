{
 "cells": [
  {
   "cell_type": "code",
   "execution_count": 15,
   "metadata": {},
   "outputs": [],
   "source": [
    "import numpy as np\n",
    "import pandas as pd\n",
    "from matplotlib import pyplot as plt\n",
    "import time"
   ]
  },
  {
   "cell_type": "code",
   "execution_count": 2,
   "metadata": {},
   "outputs": [],
   "source": [
    "hurcan= pd.read_csv('hurcan_data.csv')\n",
    "hurcan['warn']=0"
   ]
  },
  {
   "cell_type": "code",
   "execution_count": 3,
   "metadata": {},
   "outputs": [
    {
     "data": {
      "text/html": [
       "<div>\n",
       "<style scoped>\n",
       "    .dataframe tbody tr th:only-of-type {\n",
       "        vertical-align: middle;\n",
       "    }\n",
       "\n",
       "    .dataframe tbody tr th {\n",
       "        vertical-align: top;\n",
       "    }\n",
       "\n",
       "    .dataframe thead th {\n",
       "        text-align: right;\n",
       "    }\n",
       "</style>\n",
       "<table border=\"1\" class=\"dataframe\">\n",
       "  <thead>\n",
       "    <tr style=\"text-align: right;\">\n",
       "      <th></th>\n",
       "      <th>class</th>\n",
       "      <th>accelX</th>\n",
       "      <th>accelY</th>\n",
       "      <th>accelZ</th>\n",
       "      <th>orientZ</th>\n",
       "      <th>warn</th>\n",
       "    </tr>\n",
       "  </thead>\n",
       "  <tbody>\n",
       "    <tr>\n",
       "      <th>0</th>\n",
       "      <td>hurcan</td>\n",
       "      <td>0.000177</td>\n",
       "      <td>-0.001576</td>\n",
       "      <td>-0.000742</td>\n",
       "      <td>0.999977</td>\n",
       "      <td>0</td>\n",
       "    </tr>\n",
       "    <tr>\n",
       "      <th>1</th>\n",
       "      <td>hurcan</td>\n",
       "      <td>0.000177</td>\n",
       "      <td>-0.001576</td>\n",
       "      <td>-0.000742</td>\n",
       "      <td>0.999977</td>\n",
       "      <td>0</td>\n",
       "    </tr>\n",
       "    <tr>\n",
       "      <th>2</th>\n",
       "      <td>hurcan</td>\n",
       "      <td>0.000338</td>\n",
       "      <td>-0.001330</td>\n",
       "      <td>0.000080</td>\n",
       "      <td>0.999977</td>\n",
       "      <td>0</td>\n",
       "    </tr>\n",
       "    <tr>\n",
       "      <th>3</th>\n",
       "      <td>hurcan</td>\n",
       "      <td>0.000338</td>\n",
       "      <td>-0.001330</td>\n",
       "      <td>0.000080</td>\n",
       "      <td>0.999977</td>\n",
       "      <td>0</td>\n",
       "    </tr>\n",
       "    <tr>\n",
       "      <th>4</th>\n",
       "      <td>hurcan</td>\n",
       "      <td>-0.001297</td>\n",
       "      <td>0.000065</td>\n",
       "      <td>-0.000144</td>\n",
       "      <td>0.999977</td>\n",
       "      <td>0</td>\n",
       "    </tr>\n",
       "  </tbody>\n",
       "</table>\n",
       "</div>"
      ],
      "text/plain": [
       "    class    accelX    accelY    accelZ   orientZ  warn\n",
       "0  hurcan  0.000177 -0.001576 -0.000742  0.999977     0\n",
       "1  hurcan  0.000177 -0.001576 -0.000742  0.999977     0\n",
       "2  hurcan  0.000338 -0.001330  0.000080  0.999977     0\n",
       "3  hurcan  0.000338 -0.001330  0.000080  0.999977     0\n",
       "4  hurcan -0.001297  0.000065 -0.000144  0.999977     0"
      ]
     },
     "execution_count": 3,
     "metadata": {},
     "output_type": "execute_result"
    }
   ],
   "source": [
    "hurcan.head()"
   ]
  },
  {
   "cell_type": "code",
   "execution_count": 7,
   "metadata": {},
   "outputs": [
    {
     "data": {
      "image/png": "[encoded data removed]",
      "text/plain": [
       "<Figure size 576x432 with 1 Axes>"
      ]
     },
     "metadata": {
      "needs_background": "light"
     },
     "output_type": "display_data"
    }
   ],
   "source": [
    "plt.figure(figsize=(10, 8))\n",
    "plt.plot(hurcan['accelX'], color= 'green', label='Acceleration along X axis of hurcan')\n",
    "plt.plot(hurcan['accelY'], color= 'red', label='Acceleration along Y axis of hurcan')\n",
    "#plt.plot(hurcan['orientZ'], color= 'black', label='Yaw')\n",
    "plt.title(\"Hurcan details\")\n",
    "plt.xlabel(\"Time\")\n",
    "plt.ylabel(\"Details\")\n",
    "plt.legend()\n",
    "plt.show()"
   ]
  },
  {
   "cell_type": "code",
   "execution_count": 7,
   "metadata": {},
   "outputs": [
    {
     "data": {
      "text/html": [
       "<div>\n",
       "<style scoped>\n",
       "    .dataframe tbody tr th:only-of-type {\n",
       "        vertical-align: middle;\n",
       "    }\n",
       "\n",
       "    .dataframe tbody tr th {\n",
       "        vertical-align: top;\n",
       "    }\n",
       "\n",
       "    .dataframe thead th {\n",
       "        text-align: right;\n",
       "    }\n",
       "</style>\n",
       "<table border=\"1\" class=\"dataframe\">\n",
       "  <thead>\n",
       "    <tr style=\"text-align: right;\">\n",
       "      <th></th>\n",
       "      <th>class</th>\n",
       "      <th>accelX</th>\n",
       "      <th>accelY</th>\n",
       "      <th>accelZ</th>\n",
       "      <th>orientZ</th>\n",
       "    </tr>\n",
       "  </thead>\n",
       "  <tbody>\n",
       "    <tr>\n",
       "      <th>count</th>\n",
       "      <td>42773</td>\n",
       "      <td>42773.000000</td>\n",
       "      <td>42773.000000</td>\n",
       "      <td>42773.000000</td>\n",
       "      <td>42773.000000</td>\n",
       "    </tr>\n",
       "    <tr>\n",
       "      <th>unique</th>\n",
       "      <td>1</td>\n",
       "      <td>NaN</td>\n",
       "      <td>NaN</td>\n",
       "      <td>NaN</td>\n",
       "      <td>NaN</td>\n",
       "    </tr>\n",
       "    <tr>\n",
       "      <th>top</th>\n",
       "      <td>hurcan</td>\n",
       "      <td>NaN</td>\n",
       "      <td>NaN</td>\n",
       "      <td>NaN</td>\n",
       "      <td>NaN</td>\n",
       "    </tr>\n",
       "    <tr>\n",
       "      <th>freq</th>\n",
       "      <td>42773</td>\n",
       "      <td>NaN</td>\n",
       "      <td>NaN</td>\n",
       "      <td>NaN</td>\n",
       "      <td>NaN</td>\n",
       "    </tr>\n",
       "    <tr>\n",
       "      <th>mean</th>\n",
       "      <td>NaN</td>\n",
       "      <td>0.000292</td>\n",
       "      <td>-0.000336</td>\n",
       "      <td>0.003927</td>\n",
       "      <td>0.052411</td>\n",
       "    </tr>\n",
       "    <tr>\n",
       "      <th>std</th>\n",
       "      <td>NaN</td>\n",
       "      <td>0.057442</td>\n",
       "      <td>0.106547</td>\n",
       "      <td>13.443174</td>\n",
       "      <td>0.724268</td>\n",
       "    </tr>\n",
       "    <tr>\n",
       "      <th>min</th>\n",
       "      <td>NaN</td>\n",
       "      <td>-3.173815</td>\n",
       "      <td>-0.760674</td>\n",
       "      <td>-678.691589</td>\n",
       "      <td>-1.000000</td>\n",
       "    </tr>\n",
       "    <tr>\n",
       "      <th>25%</th>\n",
       "      <td>NaN</td>\n",
       "      <td>-0.001555</td>\n",
       "      <td>-0.004861</td>\n",
       "      <td>-0.013043</td>\n",
       "      <td>-0.704124</td>\n",
       "    </tr>\n",
       "    <tr>\n",
       "      <th>50%</th>\n",
       "      <td>NaN</td>\n",
       "      <td>0.000094</td>\n",
       "      <td>-0.000476</td>\n",
       "      <td>-0.000317</td>\n",
       "      <td>-0.000953</td>\n",
       "    </tr>\n",
       "    <tr>\n",
       "      <th>75%</th>\n",
       "      <td>NaN</td>\n",
       "      <td>0.001894</td>\n",
       "      <td>0.001008</td>\n",
       "      <td>0.000642</td>\n",
       "      <td>0.713005</td>\n",
       "    </tr>\n",
       "    <tr>\n",
       "      <th>max</th>\n",
       "      <td>NaN</td>\n",
       "      <td>5.923969</td>\n",
       "      <td>10.189273</td>\n",
       "      <td>709.843140</td>\n",
       "      <td>1.000000</td>\n",
       "    </tr>\n",
       "  </tbody>\n",
       "</table>\n",
       "</div>"
      ],
      "text/plain": [
       "         class        accelX        accelY        accelZ       orientZ\n",
       "count    42773  42773.000000  42773.000000  42773.000000  42773.000000\n",
       "unique       1           NaN           NaN           NaN           NaN\n",
       "top     hurcan           NaN           NaN           NaN           NaN\n",
       "freq     42773           NaN           NaN           NaN           NaN\n",
       "mean       NaN      0.000292     -0.000336      0.003927      0.052411\n",
       "std        NaN      0.057442      0.106547     13.443174      0.724268\n",
       "min        NaN     -3.173815     -0.760674   -678.691589     -1.000000\n",
       "25%        NaN     -0.001555     -0.004861     -0.013043     -0.704124\n",
       "50%        NaN      0.000094     -0.000476     -0.000317     -0.000953\n",
       "75%        NaN      0.001894      0.001008      0.000642      0.713005\n",
       "max        NaN      5.923969     10.189273    709.843140      1.000000"
      ]
     },
     "execution_count": 7,
     "metadata": {},
     "output_type": "execute_result"
    }
   ],
   "source": [
    "hurcan.describe(include='all')"
   ]
  },
  {
   "cell_type": "code",
   "execution_count": 15,
   "metadata": {},
   "outputs": [
    {
     "data": {
      "image/png": "[encoded data removed]",
      "text/plain": [
       "<Figure size 576x432 with 1 Axes>"
      ]
     },
     "metadata": {
      "needs_background": "light"
     },
     "output_type": "display_data"
    }
   ],
   "source": [
    "plt.figure(figsize=(8, 6))\n",
    "plt.hist(hurcan['accelX'], bins=[-4, -3, -2, -1, 0,1,2,3,4,5,6])\n",
    "plt.show()"
   ]
  },
  {
   "cell_type": "code",
   "execution_count": 19,
   "metadata": {},
   "outputs": [
    {
     "data": {
      "image/png": "[encoded data removed]",
      "text/plain": [
       "<Figure size 576x432 with 1 Axes>"
      ]
     },
     "metadata": {
      "needs_background": "light"
     },
     "output_type": "display_data"
    }
   ],
   "source": [
    "plt.figure(figsize=(8, 6))\n",
    "plt.hist(hurcan['accelY'], bins=[-4, -3, -2, -1, 0,1,2,3,4,5,6,7,8,9,10])\n",
    "plt.show()"
   ]
  },
  {
   "cell_type": "code",
   "execution_count": 21,
   "metadata": {},
   "outputs": [
    {
     "data": {
      "image/png": "[encoded data removed]",
      "text/plain": [
       "<Figure size 576x432 with 1 Axes>"
      ]
     },
     "metadata": {
      "needs_background": "light"
     },
     "output_type": "display_data"
    }
   ],
   "source": [
    "plt.figure(figsize=(8, 6))\n",
    "plt.hist(hurcan['orientZ'], bins=[-1, -0.75, -0.5, -0.25, 0, 0.25, 0.5, 0.75, 1])\n",
    "plt.show()"
   ]
  },
  {
   "cell_type": "code",
   "execution_count": 23,
   "metadata": {},
   "outputs": [
    {
     "data": {
      "image/png": "[encoded data removed]",
      "text/plain": [
       "<Figure size 720x576 with 1 Axes>"
      ]
     },
     "metadata": {
      "needs_background": "light"
     },
     "output_type": "display_data"
    }
   ],
   "source": [
    "plt.figure(figsize=(10, 8))\n",
    "plt.plot(hurcan['orientZ'], color= 'black', label='Yaw')\n",
    "plt.title(\"Hurcan details\")\n",
    "plt.xlabel(\"Time\")\n",
    "plt.ylabel(\"Details\")\n",
    "plt.legend()\n",
    "plt.show()"
   ]
  },
  {
   "cell_type": "code",
   "execution_count": 27,
   "metadata": {},
   "outputs": [],
   "source": [
    "countAcclXneg10= countAcclXneg8= countAcclXneg6= countAcclXneg4= countAcclXneg2= countAcclX0= countAcclX2= countAcclX4= countAcclX6= countAcclX8= 0\n",
    "countAcclYneg10= countAcclYneg8= countAcclYneg6= countAcclYneg4= countAcclYneg2= countAcclY0= countAcclY2= countAcclY4= countAcclY6= countAcclY8= 0\n",
    "countOrientZneg10= countOrientZneg8= countOrientZneg6= countOrientZneg4= countOrientZneg2= countOrientZ0= countOrientZ2= countOrientZ4= countOrientZ6= countOrientZ8= 0"
   ]
  },
  {
   "cell_type": "code",
   "execution_count": 37,
   "metadata": {},
   "outputs": [],
   "source": [
    "for i in range(len(hurcan)):\n",
    "    if(float(hurcan['accelX'].iloc[i])>=-1 and float(hurcan['accelX'].iloc[i])<-0.8):\n",
    "        countAcclXneg10+=1\n",
    "    if(float(hurcan['accelX'].iloc[i])>=-0.8 and float(hurcan['accelX'].iloc[i])<=-0.6):\n",
    "        countAcclXneg8+=1\n",
    "    if(float(hurcan['accelX'].iloc[i])>=-0.6 and float(hurcan['accelX'].iloc[i])<=-0.4):\n",
    "        countAcclXneg6+=1\n",
    "    if(float(hurcan['accelX'].iloc[i])>=-0.4 and float(hurcan['accelX'].iloc[i])<=-0.2):\n",
    "        countAcclXneg4+=1\n",
    "    if(float(hurcan['accelX'].iloc[i])>=-0.2 and float(hurcan['accelX'].iloc[i])<=0):\n",
    "        countAcclXneg2+=1\n",
    "    if(float(hurcan['accelX'].iloc[i])>=0 and float(hurcan['accelX'].iloc[i])<=0.2):\n",
    "        countAcclX0+=1\n",
    "    if(float(hurcan['accelX'].iloc[i])>=0.2 and float(hurcan['accelX'].iloc[i])<=0.4):\n",
    "        countAcclX2+=1\n",
    "    if(float(hurcan['accelX'].iloc[i])>=0.4 and float(hurcan['accelX'].iloc[i])<=0.6):\n",
    "        countAcclX4+=1\n",
    "    if(float(hurcan['accelX'].iloc[i])>=0.6 and float(hurcan['accelX'].iloc[i])<=0.8):\n",
    "        countAcclX6+=1\n",
    "    if(float(hurcan['accelX'].iloc[i])>=0.8 and float(hurcan['accelX'].iloc[i])<=1):\n",
    "        countAcclX8+=1"
   ]
  },
  {
   "cell_type": "code",
   "execution_count": 38,
   "metadata": {},
   "outputs": [],
   "source": [
    "for i in range(len(hurcan)):\n",
    "    if(float(hurcan['accelY'].iloc[i])>=-1 and float(hurcan['accelY'].iloc[i])<-0.8):\n",
    "        countAcclYneg10+=1\n",
    "    if(float(hurcan['accelY'].iloc[i])>=-0.8 and float(hurcan['accelY'].iloc[i])<=-0.6):\n",
    "        countAcclYneg8+=1\n",
    "    if(float(hurcan['accelY'].iloc[i])>=-0.6 and float(hurcan['accelY'].iloc[i])<=-0.4):\n",
    "        countAcclYneg6+=1\n",
    "    if(float(hurcan['accelY'].iloc[i])>=-0.4 and float(hurcan['accelY'].iloc[i])<=-0.2):\n",
    "        countAcclYneg4+=1\n",
    "    if(float(hurcan['accelY'].iloc[i])>=-0.2 and float(hurcan['accelY'].iloc[i])<=0):\n",
    "        countAcclYneg2+=1\n",
    "    if(float(hurcan['accelY'].iloc[i])>=0 and float(hurcan['accelY'].iloc[i])<=0.2):\n",
    "        countAcclY0+=1\n",
    "    if(float(hurcan['accelY'].iloc[i])>=0.2 and float(hurcan['accelY'].iloc[i])<=0.4):\n",
    "        countAcclY2+=1\n",
    "    if(float(hurcan['accelY'].iloc[i])>=0.4 and float(hurcan['accelY'].iloc[i])<=0.6):\n",
    "        countAcclY4+=1\n",
    "    if(float(hurcan['accelY'].iloc[i])>=0.6 and float(hurcan['accelY'].iloc[i])<=0.8):\n",
    "        countAcclY6+=1\n",
    "    if(float(hurcan['accelY'].iloc[i])>=0.8 and float(hurcan['accelY'].iloc[i])<=1):\n",
    "        countAcclY8+=1"
   ]
  },
  {
   "cell_type": "code",
   "execution_count": 39,
   "metadata": {},
   "outputs": [],
   "source": [
    "for i in range(len(hurcan)):\n",
    "    if(float(hurcan['orientZ'].iloc[i])>=-1 and float(hurcan['orientZ'].iloc[i])<-0.8):\n",
    "        countOrientZneg10+=1\n",
    "    if(float(hurcan['orientZ'].iloc[i])>=-0.8 and float(hurcan['orientZ'].iloc[i])<=-0.6):\n",
    "        countOrientZneg8+=1\n",
    "    if(float(hurcan['orientZ'].iloc[i])>=-0.6 and float(hurcan['orientZ'].iloc[i])<=-0.4):\n",
    "        countOrientZneg6+=1\n",
    "    if(float(hurcan['orientZ'].iloc[i])>=-0.4 and float(hurcan['orientZ'].iloc[i])<=-0.2):\n",
    "        countOrientZneg4+=1\n",
    "    if(float(hurcan['orientZ'].iloc[i])>=-0.2 and float(hurcan['orientZ'].iloc[i])<=0):\n",
    "        countOrientZneg2+=1\n",
    "    if(float(hurcan['orientZ'].iloc[i])>=0 and float(hurcan['orientZ'].iloc[i])<=0.2):\n",
    "        countOrientZ0+=1\n",
    "    if(float(hurcan['orientZ'].iloc[i])>=0.2 and float(hurcan['orientZ'].iloc[i])<=0.4):\n",
    "        countOrientZ2+=1\n",
    "    if(float(hurcan['orientZ'].iloc[i])>=0.4 and float(hurcan['orientZ'].iloc[i])<=0.6):\n",
    "        countOrientZ4+=1\n",
    "    if(float(hurcan['orientZ'].iloc[i])>=0.6 and float(hurcan['orientZ'].iloc[i])<=0.8):\n",
    "        countOrientZ6+=1\n",
    "    if(float(hurcan['orientZ'].iloc[i])>=0.8 and float(hurcan['orientZ'].iloc[i])<=1):\n",
    "        countOrientZ8+=1"
   ]
  },
  {
   "cell_type": "code",
   "execution_count": 41,
   "metadata": {},
   "outputs": [
    {
     "name": "stdout",
     "output_type": "stream",
     "text": [
      "countAcclYneg10  0\n",
      "countAcclYneg8  4\n",
      "countAcclYneg6  2\n",
      "countAcclYneg4 109\n",
      "countAcclYneg2  25334\n",
      "countAcclY0  17176\n",
      "countAcclY2  121\n",
      "countAcclY4  6\n",
      "countAcclY6  3\n",
      "countAcclY8  4\n"
     ]
    }
   ],
   "source": [
    "print(\"countAcclYneg10  \"+ str(countAcclYneg10))\n",
    "print(\"countAcclYneg8  \"+ str(countAcclYneg8))\n",
    "print(\"countAcclYneg6  \"+ str(countAcclYneg6))\n",
    "print(\"countAcclYneg4 \"+ str(countAcclYneg4))\n",
    "print(\"countAcclYneg2  \"+ str(countAcclYneg2))\n",
    "print(\"countAcclY0  \"+ str(countAcclY0))\n",
    "print(\"countAcclY2  \"+ str(countAcclY2))\n",
    "print(\"countAcclY4  \"+ str(countAcclY4))\n",
    "print(\"countAcclY6  \"+ str(countAcclY6))\n",
    "print(\"countAcclY8  \"+ str(countAcclY8))"
   ]
  },
  {
   "cell_type": "code",
   "execution_count": 42,
   "metadata": {},
   "outputs": [
    {
     "name": "stdout",
     "output_type": "stream",
     "text": [
      "countAcclXneg10  0\n",
      "countAcclXneg8  3\n",
      "countAcclXneg6  5\n",
      "countAcclXneg4 12\n",
      "countAcclXneg2  20428\n",
      "countAcclX0  22285\n",
      "countAcclX2  18\n",
      "countAcclX4  0\n",
      "countAcclX6  1\n",
      "countAcclX8  1\n"
     ]
    }
   ],
   "source": [
    "print(\"countAcclXneg10  \"+ str(countAcclXneg10))\n",
    "print(\"countAcclXneg8  \"+ str(countAcclXneg8))\n",
    "print(\"countAcclXneg6  \"+ str(countAcclXneg6))\n",
    "print(\"countAcclXneg4 \"+ str(countAcclXneg4))\n",
    "print(\"countAcclXneg2  \"+ str(countAcclXneg2))\n",
    "print(\"countAcclX0  \"+ str(countAcclX0))\n",
    "print(\"countAcclX2  \"+ str(countAcclX2))\n",
    "print(\"countAcclX4  \"+ str(countAcclX4))\n",
    "print(\"countAcclX6  \"+ str(countAcclX6))\n",
    "print(\"countAcclX8  \"+ str(countAcclX8))"
   ]
  },
  {
   "cell_type": "code",
   "execution_count": 43,
   "metadata": {},
   "outputs": [
    {
     "name": "stdout",
     "output_type": "stream",
     "text": [
      "countOrientZneg10  5202\n",
      "countOrientZneg8  9405\n",
      "countOrientZneg6  1009\n",
      "countOrientZneg4 464\n",
      "countOrientZneg2  6786\n",
      "countOrientZ0  2031\n",
      "countOrientZ2  436\n",
      "countOrientZ4  659\n",
      "countOrientZ6  8506\n",
      "countOrientZ8  8275\n"
     ]
    }
   ],
   "source": [
    "print(\"countOrientZneg10  \"+ str(countOrientZneg10))\n",
    "print(\"countOrientZneg8  \"+ str(countOrientZneg8))\n",
    "print(\"countOrientZneg6  \"+ str(countOrientZneg6))\n",
    "print(\"countOrientZneg4 \"+ str(countOrientZneg4))\n",
    "print(\"countOrientZneg2  \"+ str(countOrientZneg2))\n",
    "print(\"countOrientZ0  \"+ str(countOrientZ0))\n",
    "print(\"countOrientZ2  \"+ str(countOrientZ2))\n",
    "print(\"countOrientZ4  \"+ str(countOrientZ4))\n",
    "print(\"countOrientZ6  \"+ str(countOrientZ6))\n",
    "print(\"countOrientZ8  \"+ str(countOrientZ8))"
   ]
  },
  {
   "cell_type": "code",
   "execution_count": 19,
   "metadata": {},
   "outputs": [],
   "source": [
    "acc_inc= 0.2 \n",
    "max_alpha_inc = 0.5\n",
    "max_speed= 0.143\n",
    "speed_warn_lim= 40 #3 min\n",
    "acc_warn_lim= 40 #3 min\n",
    "alpha_warn_lim= 240 #3 min\n",
    "total_lim= 60 #2 sec"
   ]
  },
  {
   "cell_type": "code",
   "execution_count": 20,
   "metadata": {},
   "outputs": [],
   "source": [
    "def calc_speed(speed_1, a, t):\n",
    "    #speed= speed_1 + a*(t+0.005)\n",
    "    speed= speed_1 + a*t\n",
    "    return speed\n",
    "\n",
    "def speed_check(speed):\n",
    "    if(abs(speed)> max_speed):\n",
    "        return True\n",
    "    return False\n",
    "\n",
    "def check_alpha(alpha1, alpha2):\n",
    "    if (abs(alpha1-alpha2)>max_alpha_inc):\n",
    "        return True\n",
    "    return False\n",
    "\n",
    "def high_speed_check(speed):\n",
    "    if(speed> (max_speed*1.5)):\n",
    "        return True\n",
    "    return False\n",
    "\n",
    "def acc_check(acc1, acc2):\n",
    "    if(abs(acc2-acc1)>acc_inc):\n",
    "        return True\n",
    "    return False"
   ]
  },
  {
   "cell_type": "code",
   "execution_count": 21,
   "metadata": {},
   "outputs": [],
   "source": [
    "acc_warn=[] \n",
    "total_warn= []\n",
    "speed_warn=[]\n",
    "speed=[]\n",
    "alpha_warn=[]\n",
    "def control_loop():\n",
    "    speed1= speed2= alpha1= alpha2= acc1= acc2= 0\n",
    "    ac= al= sp= hs= to=0\n",
    "    tic= time.time()\n",
    "    for i in range (len(hurcan[0:2000])):\n",
    "        time.sleep(0.005) #imitate actual reading of data (considering data is read in every 5 millisec)\n",
    "        accX= hurcan['accelX'].iloc[i]\n",
    "        accY= hurcan['accelY'].iloc[i]\n",
    "        alpha2= hurcan['orientZ'].iloc[i]\n",
    "        acc2= ((accX**2+ accY**2)**0.5)*(abs(accY)/ accY)\n",
    "        tac= time.time()\n",
    "        t= tac-tic\n",
    "        speed2= calc_speed(speed1, acc2, t)\n",
    "        speed.append(speed2)\n",
    "        if(check_alpha(alpha1, alpha2)):\n",
    "            alpha_warn.append(time.time())\n",
    "            total_warn.append(time.time())\n",
    "            hurcan.warn[i]=1\n",
    "            al+=1\n",
    "            #break\n",
    "        if(acc_check(acc1, acc2)):\n",
    "            acc_warn.append(time.time())\n",
    "            total_warn.append(time.time())\n",
    "            if(len(acc_warn)>3 and (acc_warn[len(acc_warn)-1]- acc_warn[len(acc_warn)-4])< acc_warn_lim and len(acc_warn)>(ac+2) ):\n",
    "                hurcan.warn[i]=1\n",
    "                ac+=1\n",
    "                #break\n",
    "            elif(len(total_warn)>7 and (total_warn[len(total_warn)-1]- total_warn[len(total_warn)-8])< total_lim and len(total_warn)>(to+7) ):\n",
    "                hurcan.warn[i]=1\n",
    "                to+=1\n",
    "                #break\n",
    "        if(speed_check(speed2)):\n",
    "            speed_warn.append(time.time())\n",
    "            total_warn.append(time.time())\n",
    "            if(len(speed_warn)>5 and (speed_warn[len(speed_warn)-1]- speed_warn[len(speed_warn)-6])< speed_warn_lim and len(speed_warn)>(sp+5) ):\n",
    "                hurcan.warn[i]=1\n",
    "                sp+=1\n",
    "                #break\n",
    "            elif(len(total_warn)>7 and (total_warn[len(total_warn)-1]- total_warn[len(total_warn)-8])< total_lim and len(total_warn)>(to+7) ):\n",
    "                hurcan.warn[i]=1\n",
    "                to+=1\n",
    "                #break\n",
    "        \n",
    "        if (high_speed_check(speed2)):\n",
    "            hurcan.warn[i]=1\n",
    "            hs+=1\n",
    "            #break\n",
    "        \n",
    "        speed1=speed2\n",
    "        alpha1= alpha2\n",
    "        acc1= acc2\n",
    "        tic= time.time()\n",
    "    print (\"alpha warns  \"+ str(al))\n",
    "    print (\"speed warns  \"+ str(sp))\n",
    "    print (\"accel warns  \"+ str(ac))\n",
    "    print (\"high speed warns  \"+ str(hs))\n",
    "    print (\"total warns  \"+ str(to))"
   ]
  },
  {
   "cell_type": "code",
   "execution_count": 22,
   "metadata": {},
   "outputs": [
    {
     "name": "stderr",
     "output_type": "stream",
     "text": [
      "D:\\Program Data\\anaconda3\\envs\\tensorflow_env\\lib\\site-packages\\ipykernel_launcher.py:23: SettingWithCopyWarning: \n",
      "A value is trying to be set on a copy of a slice from a DataFrame\n",
      "\n",
      "See the caveats in the documentation: https://pandas.pydata.org/pandas-docs/stable/user_guide/indexing.html#returning-a-view-versus-a-copy\n"
     ]
    },
    {
     "name": "stdout",
     "output_type": "stream",
     "text": [
      "alpha warns  2\n",
      "speed warns  0\n",
      "accel warns  0\n",
      "high speed warns  0\n",
      "total warns  0\n"
     ]
    }
   ],
   "source": [
    "control_loop()"
   ]
  },
  {
   "cell_type": "code",
   "execution_count": 24,
   "metadata": {},
   "outputs": [
    {
     "data": {
      "image/png": "[encoded data removed]",
      "text/plain": [
       "<Figure size 432x288 with 4 Axes>"
      ]
     },
     "metadata": {
      "needs_background": "light"
     },
     "output_type": "display_data"
    }
   ],
   "source": [
    "fig, axs = plt.subplots(2, 2)\n",
    "axs[0, 0].plot(hurcan.accelY[0:2000])\n",
    "axs[0, 0].set_title('Acceleration')\n",
    "axs[0, 1].plot(hurcan.orientZ[0:2000], 'tab:orange')\n",
    "axs[0, 1].set_title('Rotation')\n",
    "axs[1, 0].plot(speed, 'tab:green')\n",
    "axs[1, 0].set_title('speed')\n",
    "axs[1, 1].plot(hurcan.accelX[0:2000], 'tab:red')\n",
    "axs[1, 1].set_title('Warning')\n",
    "\n",
    "for ax in axs.flat:\n",
    "    ax.set(xlabel='x-label', ylabel='y-label')\n",
    "\n",
    "# Hide x labels and tick labels for top plots and y ticks for right plots.\n",
    "for ax in axs.flat:\n",
    "    ax.label_outer()"
   ]
  },
  {
   "cell_type": "code",
   "execution_count": null,
   "metadata": {},
   "outputs": [],
   "source": []
  }
 ],
 "metadata": {
  "kernelspec": {
   "display_name": "Python 3",
   "language": "python",
   "name": "python3"
  },
  "language_info": {
   "codemirror_mode": {
    "name": "ipython",
    "version": 3
   },
   "file_extension": ".py",
   "mimetype": "text/x-python",
   "name": "python",
   "nbconvert_exporter": "python",
   "pygments_lexer": "ipython3",
   "version": "3.7.9"
  }
 },
 "nbformat": 4,
 "nbformat_minor": 4
}
